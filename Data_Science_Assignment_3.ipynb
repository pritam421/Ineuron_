{
  "nbformat": 4,
  "nbformat_minor": 0,
  "metadata": {
    "colab": {
      "provenance": [],
      "authorship_tag": "ABX9TyOx0oXSKKzwPuc9SdMTLsv3",
      "include_colab_link": true
    },
    "kernelspec": {
      "name": "python3",
      "display_name": "Python 3"
    },
    "language_info": {
      "name": "python"
    }
  },
  "cells": [
    {
      "cell_type": "markdown",
      "metadata": {
        "id": "view-in-github",
        "colab_type": "text"
      },
      "source": [
        "<a href=\"https://colab.research.google.com/github/pritam421/Ineuron_/blob/main/Data_Science_Assignment_3.ipynb\" target=\"_parent\"><img src=\"https://colab.research.google.com/assets/colab-badge.svg\" alt=\"Open In Colab\"/></a>"
      ]
    },
    {
      "cell_type": "markdown",
      "source": [
        "Scenario: A company wants to analyze the sales performance of its products in different regions. They have collected the following data:\n",
        "   Region A: [10, 15, 12, 8, 14]\n",
        "   Region B: [18, 20, 16, 22, 25]\n",
        "   Calculate the mean sales for each region.\n"
      ],
      "metadata": {
        "id": "Kb-upVbmMh9w"
      }
    },
    {
      "cell_type": "code",
      "execution_count": 1,
      "metadata": {
        "colab": {
          "base_uri": "https://localhost:8080/"
        },
        "id": "ECdo2mCUMSvp",
        "outputId": "8bb9acb1-0e16-461f-b078-5de0882d2252"
      },
      "outputs": [
        {
          "output_type": "stream",
          "name": "stdout",
          "text": [
            "The mean sales for region A is 11.8\n",
            "The mean sales for region B is 20.2\n"
          ]
        }
      ],
      "source": [
        "def mean(data):\n",
        "  \"\"\"Calculates the mean of a list of numbers.\"\"\"\n",
        "  sum = 0\n",
        "  count = len(data)\n",
        "  for i in range(count):\n",
        "    sum += data[i]\n",
        "  return sum / count\n",
        "\n",
        "region_a = [10, 15, 12, 8, 14]\n",
        "region_b = [18, 20, 16, 22, 25]\n",
        "\n",
        "mean_region_a = mean(region_a)\n",
        "mean_region_b = mean(region_b)\n",
        "\n",
        "print(\"The mean sales for region A is\", mean_region_a)\n",
        "print(\"The mean sales for region B is\", mean_region_b)\n"
      ]
    },
    {
      "cell_type": "markdown",
      "source": [
        "Scenario: A survey is conducted to measure customer satisfaction on a scale of 1 to 5. The data collected is as follows:\n",
        "   [4, 5, 2, 3, 5, 4, 3, 2, 4, 5]\n",
        "   Calculate the mode of the survey responses.\n"
      ],
      "metadata": {
        "id": "yEyol50IThZZ"
      }
    },
    {
      "cell_type": "code",
      "source": [
        "def mode(data):\n",
        "  \"\"\"Calculates the mode of a list of numbers.\"\"\"\n",
        "  counts = {}\n",
        "  for number in data:\n",
        "    if number in counts:\n",
        "      counts[number] += 1\n",
        "    else:\n",
        "      counts[number] = 1\n",
        "  max_count = 0\n",
        "  mode = None\n",
        "  for number, count in counts.items():\n",
        "    if count > max_count:\n",
        "      max_count = count\n",
        "      mode = number\n",
        "  return mode\n",
        "\n",
        "data = [4, 5, 2, 3, 5, 4, 3, 2, 4, 5]\n",
        "\n",
        "mode_of_survey_responses = mode(data)\n",
        "\n",
        "print(\"The mode of the survey responses is\", mode_of_survey_responses)\n",
        ""
      ],
      "metadata": {
        "colab": {
          "base_uri": "https://localhost:8080/"
        },
        "id": "edz5t4vpNNmR",
        "outputId": "bc8ac5ed-9f86-4f94-a0e2-9a565cd92871"
      },
      "execution_count": 2,
      "outputs": [
        {
          "output_type": "stream",
          "name": "stdout",
          "text": [
            "The mode of the survey responses is 4\n"
          ]
        }
      ]
    },
    {
      "cell_type": "markdown",
      "source": [
        "A company wants to compare the salaries of two departments. The salary data for Department A and Department B are as follows:\n",
        "   Department A: [5000, 6000, 5500, 7000]\n",
        "   Department B: [4500, 5500, 5800, 6000, 5200]\n",
        "   Calculate the median salary for each department.\n"
      ],
      "metadata": {
        "id": "QFoeF7mhU60c"
      }
    },
    {
      "cell_type": "code",
      "source": [
        "def median(data):\n",
        "\n",
        "  data.sort()\n",
        "  length = len(data)\n",
        "  if length % 2 == 0:\n",
        "    # The list has an even number of elements, so the median is the average of the two middle elements.\n",
        "    median = (data[length // 2] + data[length // 2 - 1]) / 2\n",
        "  else:\n",
        "    # The list has an odd number of elements, so the median is the middle element.\n",
        "    median = data[length // 2]\n",
        "  return median\n",
        "\n",
        "department_a = [5000, 6000, 5500, 7000]\n",
        "department_b = [4500, 5500, 5800, 6000, 5200]\n",
        "\n",
        "median_department_a = median(department_a)\n",
        "median_department_b = median(department_b)\n"
      ],
      "metadata": {
        "colab": {
          "base_uri": "https://localhost:8080/"
        },
        "id": "UN1BsVRITmJF",
        "outputId": "9891c27c-ffaa-4e7f-a208-5bdcda3098c0"
      },
      "execution_count": 4,
      "outputs": [
        {
          "output_type": "stream",
          "name": "stdout",
          "text": [
            "The median salary for department A is 5750.0\n",
            "The median salary for department B is 5500\n"
          ]
        }
      ]
    },
    {
      "cell_type": "markdown",
      "source": [
        "A data analyst wants to determine the variability in the daily stock prices of a company. The data collected is as follows:\n",
        "   [25.5, 24.8, 26.1, 25.3, 24.9]\n",
        "   Calculate the range of the stock prices\n"
      ],
      "metadata": {
        "id": "p9fKsi2vXVns"
      }
    },
    {
      "cell_type": "code",
      "source": [
        "def range(values):\n",
        "  # range is the diff between max and min value\n",
        "  minimum = min(data)\n",
        "  maximum = max(data)\n",
        "\n",
        "  return maximum - minimum\n",
        "values = [25.5, 24.8, 26.1, 25.3, 24.9]\n",
        "stock_price_daily = range(values)\n",
        "print(stock_price_daily)"
      ],
      "metadata": {
        "colab": {
          "base_uri": "https://localhost:8080/"
        },
        "id": "EO7ULM-0U24l",
        "outputId": "61e340e1-2280-4cfc-f8ff-641f027776cf"
      },
      "execution_count": 8,
      "outputs": [
        {
          "output_type": "stream",
          "name": "stdout",
          "text": [
            "1.3000000000000007\n"
          ]
        }
      ]
    },
    {
      "cell_type": "markdown",
      "source": [
        "A study is conducted to compare the performance of two different teaching methods. The test scores of the students in each group are as follows:\n",
        "   Group A: [85, 90, 92, 88, 91]\n",
        "   Group B: [82, 88, 90, 86, 87]\n",
        "   Perform a t-test to determine if there is a significant difference in the mean scores between the two groups.\n"
      ],
      "metadata": {
        "id": "ZaQyOu0ba28Y"
      }
    },
    {
      "cell_type": "code",
      "source": [
        "'''We can use a t-test to determine if there is a significant difference in the mean scores between the two groups.\n",
        "The null hypothesis is that there is no difference in the mean scores, and the alternative hypothesis is that there is a\n",
        "difference in the mean scores.\n",
        "\n",
        "The t-statistic for this test is 1.43, and the p-value is 0.190. The p-value is greater than\n",
        "the significance level of 0.05, so we cannot reject the null hypothesis. This means that there is not enough evidence to\n",
        "conclude that there is a significant difference in the mean scores between the two groups.\n",
        "'''\n",
        "\n",
        "import scipy.stats as stats\n",
        "\n",
        "# Define the data for Group A and Group B\n",
        "group_a = [85, 90, 92, 88, 91]\n",
        "group_b = [82, 88, 90, 86, 87]\n",
        "\n",
        "# Perform independent two-sample t-test\n",
        "t_statistic, p_value = stats.ttest_ind(group_a, group_b)\n",
        "\n",
        "# Print the t-statistic and p-value\n",
        "print(\"t-statistic:\", t_statistic)\n",
        "print(\"p-value:\", p_value)\n"
      ],
      "metadata": {
        "colab": {
          "base_uri": "https://localhost:8080/"
        },
        "id": "SOlc2ejTXH-9",
        "outputId": "c9058abd-7e23-4479-e173-77b6fb3320a0"
      },
      "execution_count": 14,
      "outputs": [
        {
          "output_type": "stream",
          "name": "stdout",
          "text": [
            "t-statistic: 1.4312528946642733\n",
            "p-value: 0.19023970239078333\n"
          ]
        }
      ]
    },
    {
      "cell_type": "markdown",
      "source": [
        "A company wants to analyze the relationship between advertising expenditure and sales. The data collected is as follows:\n",
        "   Advertising Expenditure (in thousands): [10, 15, 12, 8, 14]\n",
        "   Sales (in thousands): [25, 30, 28, 20, 26]\n",
        "   Calculate the correlation coefficient between advertising expenditure and sales"
      ],
      "metadata": {
        "id": "y8u4Rp9evKau"
      }
    },
    {
      "cell_type": "code",
      "source": [
        "import numpy as np\n",
        "\n",
        "# Define the data for advertising expenditure and sales\n",
        "advertising_expenditure = [10, 15, 12, 8, 14]\n",
        "sales = [25, 30, 28, 20, 26]\n",
        "\n",
        "correlation_coefficient = np.corrcoef(advertising_expenditure, sales)[0, 1]\n",
        "print(\"Correlation Coefficient:\", correlation_coefficient)"
      ],
      "metadata": {
        "colab": {
          "base_uri": "https://localhost:8080/"
        },
        "id": "J1Ke9KE4aqt8",
        "outputId": "ae5a9133-a411-4556-95d6-cb6e9d451f79"
      },
      "execution_count": 15,
      "outputs": [
        {
          "output_type": "stream",
          "name": "stdout",
          "text": [
            "Correlation Coefficient: 0.8757511375750132\n"
          ]
        }
      ]
    },
    {
      "cell_type": "markdown",
      "source": [
        "A survey is conducted to measure the heights of a group of people. The data collected is as follows:\n",
        "   [160, 170, 165, 155, 175, 180, 170]\n",
        "   Calculate the standard deviation of the heights\n"
      ],
      "metadata": {
        "id": "b3Lw8x5MyqbF"
      }
    },
    {
      "cell_type": "code",
      "source": [
        "import numpy as np\n",
        "\n",
        "heights = [160, 170, 165, 155, 175, 180, 170]\n",
        "standard_deviation = np.std(heights)\n",
        "print(\"Standard Deviation:\", standard_deviation)\n"
      ],
      "metadata": {
        "colab": {
          "base_uri": "https://localhost:8080/"
        },
        "id": "yJL8b_3JfG2e",
        "outputId": "a638a785-2e87-4185-c0b0-29cfd33e89b3"
      },
      "execution_count": 16,
      "outputs": [
        {
          "output_type": "stream",
          "name": "stdout",
          "text": [
            "Standard Deviation: 7.953949089757174\n"
          ]
        }
      ]
    },
    {
      "cell_type": "markdown",
      "source": [
        "A company wants to analyze the relationship between employee tenure and job satisfaction. The data collected is as follows:\n",
        "   Employee Tenure (in years): [2, 3, 5, 4, 6, 2, 4]\n",
        "   Job Satisfaction (on a scale of 1 to 10): [7, 8, 6, 9, 5, 7, 6]\n",
        "   Perform a linear regression analysis to predict job satisfaction based on employee tenure\n"
      ],
      "metadata": {
        "id": "c-N4H8IXzEch"
      }
    },
    {
      "cell_type": "code",
      "source": [
        "import statsmodels.api as sm\n",
        "import numpy as np\n",
        "\n",
        "employee_tenure = np.array([2, 3, 5, 4, 6, 2, 4])\n",
        "job_satisfaction = np.array([7, 8, 6, 9, 5, 7, 6])\n",
        "\n",
        "# a constant column to the independent variable (employee tenure)\n",
        "x = sm.add_constant(employee_tenure)\n",
        "\n",
        "# Fit the linear regression model\n",
        "model = sm.OLS(job_satisfaction, x)\n",
        "results = model.fit()\n",
        "print(results.summary())\n"
      ],
      "metadata": {
        "colab": {
          "base_uri": "https://localhost:8080/"
        },
        "id": "8MKXCoPMfPWs",
        "outputId": "98f4267a-a8d8-41f3-987d-593160b7aca2"
      },
      "execution_count": 10,
      "outputs": [
        {
          "output_type": "stream",
          "name": "stdout",
          "text": [
            "                            OLS Regression Results                            \n",
            "==============================================================================\n",
            "Dep. Variable:                      y   R-squared:                       0.271\n",
            "Model:                            OLS   Adj. R-squared:                  0.125\n",
            "Method:                 Least Squares   F-statistic:                     1.859\n",
            "Date:                Sun, 09 Jul 2023   Prob (F-statistic):              0.231\n",
            "Time:                        05:22:27   Log-Likelihood:                -10.362\n",
            "No. Observations:                   7   AIC:                             24.72\n",
            "Df Residuals:                       5   BIC:                             24.62\n",
            "Df Model:                           1                                         \n",
            "Covariance Type:            nonrobust                                         \n",
            "==============================================================================\n",
            "                 coef    std err          t      P>|t|      [0.025      0.975]\n",
            "------------------------------------------------------------------------------\n",
            "const          8.5957      1.361      6.316      0.001       5.097      12.094\n",
            "x1            -0.4681      0.343     -1.363      0.231      -1.351       0.414\n",
            "==============================================================================\n",
            "Omnibus:                          nan   Durbin-Watson:                   2.414\n",
            "Prob(Omnibus):                    nan   Jarque-Bera (JB):                1.954\n",
            "Skew:                           1.292   Prob(JB):                        0.376\n",
            "Kurtosis:                       3.166   Cond. No.                         12.0\n",
            "==============================================================================\n",
            "\n",
            "Notes:\n",
            "[1] Standard Errors assume that the covariance matrix of the errors is correctly specified.\n"
          ]
        },
        {
          "output_type": "stream",
          "name": "stderr",
          "text": [
            "/usr/local/lib/python3.10/dist-packages/statsmodels/stats/stattools.py:74: ValueWarning: omni_normtest is not valid with less than 8 observations; 7 samples were given.\n",
            "  warn(\"omni_normtest is not valid with less than 8 observations; %i \"\n"
          ]
        }
      ]
    },
    {
      "cell_type": "markdown",
      "source": [
        "A study is conducted to compare the effectiveness of two different medications. The recovery times of the patients in each group are as follows:\n",
        "   Medication A: [10, 12, 14, 11, 13]\n",
        "   Medication B: [15, 17, 16, 14, 18]\n",
        "   Perform an analysis of variance (ANOVA) to determine if there is a significant difference in the mean recovery times between the two medications\n"
      ],
      "metadata": {
        "id": "XrVafUQi0WIP"
      }
    },
    {
      "cell_type": "code",
      "source": [
        "import scipy.stats as stats\n",
        "medication_a = [10, 12, 14, 11, 13]\n",
        "medication_b = [15, 17, 16, 14, 18]\n",
        "\n",
        "# Perform one-way ANOVA\n",
        "f_statistic, p_value = stats.f_oneway(medication_a, medication_b)\n",
        "print(\"F-statistic:\", f_statistic)\n",
        "print(\"p-value:\", p_value)\n"
      ],
      "metadata": {
        "colab": {
          "base_uri": "https://localhost:8080/"
        },
        "id": "SWfeKhAuf2FW",
        "outputId": "854d8652-7462-4174-d826-f28719d70fca"
      },
      "execution_count": 18,
      "outputs": [
        {
          "output_type": "stream",
          "name": "stdout",
          "text": [
            "F-statistic: 16.0\n",
            "p-value: 0.003949772803445326\n"
          ]
        }
      ]
    },
    {
      "cell_type": "markdown",
      "source": [
        "A company wants to analyze customer feedback ratings on a scale of 1 to 10. The data collected is\n",
        "\n",
        " as follows:\n",
        "    [8, 9, 7, 6, 8, 10, 9, 8, 7, 8]\n",
        "    Calculate the 75th percentile of the feedback ratings.\n"
      ],
      "metadata": {
        "id": "dW5D6snD6ZNY"
      }
    },
    {
      "cell_type": "code",
      "source": [
        "import numpy as np\n",
        "ratings  = [8, 9, 7, 6, 8, 10, 9, 8, 7, 8]\n",
        "percentile_75th = np.percentile(ratings,75)\n",
        "print('75th percentile of the feedback rating:', percentile_75th)"
      ],
      "metadata": {
        "colab": {
          "base_uri": "https://localhost:8080/"
        },
        "id": "aUGIytpB6ejf",
        "outputId": "a2a0c60e-93e7-4983-e79d-f942f37463e8"
      },
      "execution_count": 4,
      "outputs": [
        {
          "output_type": "stream",
          "name": "stdout",
          "text": [
            "75th percentile of the feedback rating: 8.75\n"
          ]
        }
      ]
    },
    {
      "cell_type": "markdown",
      "source": [
        "A quality control department wants to test the weight consistency of a product. The weights of a sample of products are as follows:\n",
        "    [10.2, 9.8, 10.0, 10.5, 10.3, 10.1]\n",
        "    Perform a hypothesis test to determine if the mean weight differs significantly from 10 grams.\n"
      ],
      "metadata": {
        "id": "7CggGdjs8Nii"
      }
    },
    {
      "cell_type": "code",
      "source": [
        "import scipy.stats as stats\n",
        "sample_product_weights = [10.2, 9.8, 10.0, 10.5, 10.3, 10.1]\n",
        "t_statistics,p_value = stats.ttest_1samp(sample_product_weights,10) # performing one sample test\n",
        "print('t-stats: ',t_statistics)\n",
        "print('p-value: ',p_value)\n",
        "\n"
      ],
      "metadata": {
        "colab": {
          "base_uri": "https://localhost:8080/"
        },
        "id": "iHBbFGsD7kwP",
        "outputId": "714b04e9-955e-4001-896f-cc816001d8a3"
      },
      "execution_count": 6,
      "outputs": [
        {
          "output_type": "stream",
          "name": "stdout",
          "text": [
            "t-stats:  1.5126584522688367\n",
            "p-value:  0.19077595151110102\n"
          ]
        }
      ]
    },
    {
      "cell_type": "markdown",
      "source": [
        "A company wants to analyze the click-through rates of two different website designs. The number of clicks for each design is as follows:\n",
        "    Design A: [100, 120, 110, 90, 95]\n",
        "    Design B: [80, 85, 90, 95, 100]\n",
        "    Perform a chi-square test to determine if there is a significant difference in the click-through rates between the two designs\n"
      ],
      "metadata": {
        "id": "MemKl91n_Zzy"
      }
    },
    {
      "cell_type": "code",
      "source": [
        "design_A = [100, 120, 110, 90, 95]\n",
        "design_B = [80, 85, 90, 95, 100]\n",
        "observed = np.array([design_A,design_B])\n",
        "chi2_statistics,p_value = stats.chisquare(observed)\n",
        "print('chisquare: ',chi2_statistics)\n",
        "print('P-value: ',p_value)"
      ],
      "metadata": {
        "colab": {
          "base_uri": "https://localhost:8080/"
        },
        "id": "VjXpYwH67siU",
        "outputId": "2d0e07b3-268e-4f99-d377-3cd2d519ae57"
      },
      "execution_count": 7,
      "outputs": [
        {
          "output_type": "stream",
          "name": "stdout",
          "text": [
            "chisquare:  [2.22222222 5.97560976 2.         0.13513514 0.12820513]\n",
            "P-value:  [0.13603713 0.01450507 0.15729921 0.71316606 0.72030033]\n"
          ]
        }
      ]
    },
    {
      "cell_type": "markdown",
      "source": [
        "A survey is conducted to measure customer satisfaction with a product on a scale of 1 to 10. The data collected is as follows:\n",
        "    [7, 9, 6, 8, 10, 7, 8, 9, 7, 8]\n",
        "    Calculate the 95% confidence interval for the population mean satisfaction score\n"
      ],
      "metadata": {
        "id": "-M0z_C8rEbrH"
      }
    },
    {
      "cell_type": "code",
      "source": [
        "satisfaction_scores = [7, 9, 6, 8, 10, 7, 8, 9, 7, 8]\n",
        "\n",
        "# Calculate the mean and standard deviation\n",
        "mean = np.mean(satisfaction_scores)\n",
        "std_dev = np.std(satisfaction_scores)\n",
        "\n",
        "sample_size = len(satisfaction_scores)\n",
        "\n",
        "standard_error = std_dev / np.sqrt(sample_size)\n",
        "margin_of_error = stats.t.ppf(0.975, df=sample_size-1) * standard_error\n",
        "confidence_interval = (mean - margin_of_error, mean + margin_of_error)\n",
        "\n",
        "print(\"95% Confidence Interval:\", confidence_interval)\n"
      ],
      "metadata": {
        "colab": {
          "base_uri": "https://localhost:8080/"
        },
        "id": "AqU9wsEXEKVl",
        "outputId": "8f8b34d4-c363-4b6a-c6fd-ae137b4a993b"
      },
      "execution_count": 8,
      "outputs": [
        {
          "output_type": "stream",
          "name": "stdout",
          "text": [
            "95% Confidence Interval: (7.087510739312016, 8.712489260687985)\n"
          ]
        }
      ]
    },
    {
      "cell_type": "markdown",
      "source": [
        "A company wants to analyze the effect of temperature on product performance. The data collected is as follows:\n",
        "    Temperature (in degrees Celsius): [20, 22, 23, 19, 21]\n",
        "    Performance (on a scale of 1 to 10): [8, 7, 9, 6, 8]\n",
        "    Perform a simple linear regression to predict performance based on temperature.\n"
      ],
      "metadata": {
        "id": "BLtKH2kkFzvM"
      }
    },
    {
      "cell_type": "code",
      "source": [
        "temperature = np.array([20, 22, 23, 19, 21])\n",
        "performance = np.array([8, 7, 9, 6, 8])\n",
        "\n",
        "# Add a constant column to the independent variable (temperature)\n",
        "x = sm.add_constant(temperature)\n",
        "\n",
        "# Fit the linear regression model\n",
        "model = sm.OLS(performance, x)\n",
        "results = model.fit()\n",
        "print(results.summary())\n"
      ],
      "metadata": {
        "colab": {
          "base_uri": "https://localhost:8080/"
        },
        "id": "3cj7FRfMF0V5",
        "outputId": "2daefdc3-f13e-4eb2-c225-acf0cf28c0bc"
      },
      "execution_count": 11,
      "outputs": [
        {
          "output_type": "stream",
          "name": "stdout",
          "text": [
            "                            OLS Regression Results                            \n",
            "==============================================================================\n",
            "Dep. Variable:                      y   R-squared:                       0.481\n",
            "Model:                            OLS   Adj. R-squared:                  0.308\n",
            "Method:                 Least Squares   F-statistic:                     2.778\n",
            "Date:                Sun, 09 Jul 2023   Prob (F-statistic):              0.194\n",
            "Time:                        05:22:33   Log-Likelihood:                -5.5542\n",
            "No. Observations:                   5   AIC:                             15.11\n",
            "Df Residuals:                       3   BIC:                             14.33\n",
            "Df Model:                           1                                         \n",
            "Covariance Type:            nonrobust                                         \n",
            "==============================================================================\n",
            "                 coef    std err          t      P>|t|      [0.025      0.975]\n",
            "------------------------------------------------------------------------------\n",
            "const         -2.9000      6.314     -0.459      0.677     -22.995      17.195\n",
            "x1             0.5000      0.300      1.667      0.194      -0.455       1.455\n",
            "==============================================================================\n",
            "Omnibus:                          nan   Durbin-Watson:                   3.056\n",
            "Prob(Omnibus):                    nan   Jarque-Bera (JB):                0.522\n",
            "Skew:                          -0.348   Prob(JB):                        0.770\n",
            "Kurtosis:                       1.578   Cond. No.                         314.\n",
            "==============================================================================\n",
            "\n",
            "Notes:\n",
            "[1] Standard Errors assume that the covariance matrix of the errors is correctly specified.\n"
          ]
        },
        {
          "output_type": "stream",
          "name": "stderr",
          "text": [
            "/usr/local/lib/python3.10/dist-packages/statsmodels/stats/stattools.py:74: ValueWarning: omni_normtest is not valid with less than 8 observations; 5 samples were given.\n",
            "  warn(\"omni_normtest is not valid with less than 8 observations; %i \"\n"
          ]
        }
      ]
    }
  ]
}