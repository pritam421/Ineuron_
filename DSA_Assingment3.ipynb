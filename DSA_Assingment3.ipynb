{
  "nbformat": 4,
  "nbformat_minor": 0,
  "metadata": {
    "colab": {
      "provenance": []
    },
    "kernelspec": {
      "name": "python3",
      "display_name": "Python 3"
    },
    "language_info": {
      "name": "python"
    }
  },
  "cells": [
    {
      "cell_type": "markdown",
      "source": [
        "###Single Number\n",
        "Given a non-empty array of integers nums, every element appears twice except for one. Find that single one.\n",
        "\n",
        "You must implement a solution with a linear runtime complexity and use only constant extra space.\n"
      ],
      "metadata": {
        "id": "44luaA4u0AI1"
      }
    },
    {
      "cell_type": "code",
      "execution_count": null,
      "metadata": {
        "id": "V93BGrWtzEGg"
      },
      "outputs": [],
      "source": [
        "'''Will be using Hash set to solve this problem, \n",
        "    Initialize an empty hash set\n",
        "    iterate through each element nums\n",
        "    if num not in the hash set then add it\n",
        "    if present in the hash set then remove it\n",
        "    after iterating the elements, only the non repeated element will be present\n",
        "    return that present element '''\n",
        "\n",
        "def  numbers(num):\n",
        "  set_=set()\n",
        "  for num in nums:\n",
        "    if num in set_:\n",
        "      set_.remove(num)\n",
        "    else:\n",
        "      set_.add(num)\n",
        "  return set_.pop()\n",
        "    "
      ]
    },
    {
      "cell_type": "markdown",
      "source": [
        "###Plus One\n",
        "\n",
        "You are given a large integer represented as an integer array digits, where each digits[i] is the ith digit of the integer. The digits are ordered from most significant to least significant in left-to-right order. The large integer does not contain any leading 0's.\n",
        "\n",
        "Increment the large integer by one and return the resulting array of digits."
      ],
      "metadata": {
        "id": "kTYKBQZBNbor"
      }
    },
    {
      "cell_type": "code",
      "source": [
        "'''start itereting from the right digit\n",
        "  add 1 to the right digit\n",
        "  if the resulting digit is less than 10 ,update the digit and return the array\n",
        "  if >= 10 then set the current digit 0,shift to the next digit\n",
        "  repeat till the end of the array'''\n",
        "\n",
        "def plusOne(digits):\n",
        "  p = len(digits)\n",
        "  for i in range(p-1,-1,-1):\n",
        "    digits[i]+=1\n",
        "    if digits[i] <10:\n",
        "      return digits\n",
        "    digits[i]=0\n",
        "  digits.insert(0,1)\n",
        "  return digits"
      ],
      "metadata": {
        "id": "eg8oJcu0NQn1"
      },
      "execution_count": null,
      "outputs": []
    },
    {
      "cell_type": "code",
      "source": [],
      "metadata": {
        "id": "g5O_dz33PkQe"
      },
      "execution_count": null,
      "outputs": []
    }
  ]
}