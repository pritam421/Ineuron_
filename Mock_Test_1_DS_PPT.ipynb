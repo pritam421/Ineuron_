{
  "nbformat": 4,
  "nbformat_minor": 0,
  "metadata": {
    "colab": {
      "provenance": [],
      "authorship_tag": "ABX9TyPm9I8AvnGnNJM7UH6uxBvo",
      "include_colab_link": true
    },
    "kernelspec": {
      "name": "python3",
      "display_name": "Python 3"
    },
    "language_info": {
      "name": "python"
    }
  },
  "cells": [
    {
      "cell_type": "markdown",
      "metadata": {
        "id": "view-in-github",
        "colab_type": "text"
      },
      "source": [
        "<a href=\"https://colab.research.google.com/github/pritam421/Ineuron_/blob/main/Mock_Test_1_DS_PPT.ipynb\" target=\"_parent\"><img src=\"https://colab.research.google.com/assets/colab-badge.svg\" alt=\"Open In Colab\"/></a>"
      ]
    },
    {
      "cell_type": "markdown",
      "source": [
        "Write a function that takes a list of numbers as input and returns a new list containing only the even numbers from the input list. Use list comprehension to solve this problem.\n",
        "\n",
        "Example:\n",
        "Input: [1, 2, 3, 4, 5, 6, 7, 8, 9, 10]\n",
        "Output: [2, 4, 6, 8, 10]"
      ],
      "metadata": {
        "id": "bFdVLy32TTwD"
      }
    },
    {
      "cell_type": "code",
      "execution_count": 1,
      "metadata": {
        "colab": {
          "base_uri": "https://localhost:8080/"
        },
        "id": "Ip3nq1PaLkrq",
        "outputId": "a515b781-0ce1-4d25-971d-32dbb84654d0"
      },
      "outputs": [
        {
          "output_type": "stream",
          "name": "stdout",
          "text": [
            "[2, 4, 6, 8]\n"
          ]
        }
      ],
      "source": [
        "def even_numbers(numbers):\n",
        "  return [num for num in numbers if num %2 ==0]\n",
        "\n",
        "list1 = [1,2,3,4,5,6,7,8,9]\n",
        "ans = even_numbers(list1)\n",
        "print(ans)"
      ]
    },
    {
      "cell_type": "markdown",
      "source": [
        " Implement a decorator function called ‘timer’ that measures the execution time of a function. The ‘timer’ decorator should print the time taken by the decorated function to execute. Use the ‘time’ module in Python to calculate the execution time."
      ],
      "metadata": {
        "id": "RoVzmd9MTWN0"
      }
    },
    {
      "cell_type": "code",
      "source": [
        "import time\n",
        "\n",
        "def timer(func):\n",
        "    def wrapper():\n",
        "      start_time = time.time()\n",
        "      func()\n",
        "      end_time = time.time()\n",
        "      execution_time = end_time - start_time\n",
        "      print('Execution time : ',execution_time)\n",
        "    return wrapper\n",
        "\n",
        "@timer\n",
        "def timer_function():\n",
        "  time.sleep(2)\n",
        "timer_function()"
      ],
      "metadata": {
        "colab": {
          "base_uri": "https://localhost:8080/"
        },
        "id": "PEm7smR_MsKE",
        "outputId": "eca4e81d-6063-448c-aba2-aa993a077eb5"
      },
      "execution_count": 7,
      "outputs": [
        {
          "output_type": "stream",
          "name": "stdout",
          "text": [
            "Execution time :  2.0021133422851562\n"
          ]
        }
      ]
    },
    {
      "cell_type": "markdown",
      "source": [
        "Write a function called ‘calculate_mean’ that takes a list of numbers as input and returns the mean (average) of the numbers. The function should calculate the mean using the sum of the numbers divided by the total count."
      ],
      "metadata": {
        "id": "dJp3Q-mvTcaj"
      }
    },
    {
      "cell_type": "code",
      "source": [
        "def calculate_mean(numbers):\n",
        "  total = sum(numbers)\n",
        "  count = len(numbers)\n",
        "  mean = total / count\n",
        "  return mean\n",
        "\n",
        "variables = [10,15,20,30,12]\n",
        "avg_= calculate_mean(variables)\n",
        "print('Mean is :',avg_)"
      ],
      "metadata": {
        "colab": {
          "base_uri": "https://localhost:8080/"
        },
        "id": "pIfXfBzePb0f",
        "outputId": "8f77b7ce-c269-40d9-d1bd-3e382b1d12ca"
      },
      "execution_count": 8,
      "outputs": [
        {
          "output_type": "stream",
          "name": "stdout",
          "text": [
            "Mean is : 17.4\n"
          ]
        }
      ]
    },
    {
      "cell_type": "markdown",
      "source": [
        "Write a function called ‘perform_hypothesis_test’ that takes two lists of numbers as input, representing two samples. The function should perform a two-sample t-test and return the p-value. Use the ‘scipy.stats’ module in Python to calculate the t-test and p-value."
      ],
      "metadata": {
        "id": "PC8TfVCSTh5u"
      }
    },
    {
      "cell_type": "code",
      "source": [
        "from scipy import stats\n",
        "\n",
        "def perform_hypothesis_test(lst1,lst2):\n",
        "  t_stat,p_value = stats.ttest_ind(lst1,lst2)\n",
        "  return p_value\n",
        "\n",
        "lst1 = [4,5,12,17,20,22]\n",
        "lst2 = [25,30,35,38,45]\n",
        "p_value = perform_hypothesis_test(lst1,lst2)\n",
        "print('P-value: ',p_value)\n"
      ],
      "metadata": {
        "colab": {
          "base_uri": "https://localhost:8080/"
        },
        "id": "zTr9xVO8QZad",
        "outputId": "635327b4-c09e-4605-b48f-6d17ae4d7dfa"
      },
      "execution_count": 9,
      "outputs": [
        {
          "output_type": "stream",
          "name": "stdout",
          "text": [
            "P-value:  0.0012897350002923883\n"
          ]
        }
      ]
    },
    {
      "cell_type": "markdown",
      "source": [],
      "metadata": {
        "id": "MZ4TNuN8TSFQ"
      }
    },
    {
      "cell_type": "code",
      "source": [],
      "metadata": {
        "id": "0E-PKQg0RtPY"
      },
      "execution_count": null,
      "outputs": []
    }
  ]
}