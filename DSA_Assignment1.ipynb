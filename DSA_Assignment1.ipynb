{
  "nbformat": 4,
  "nbformat_minor": 0,
  "metadata": {
    "colab": {
      "provenance": []
    },
    "kernelspec": {
      "name": "python3",
      "display_name": "Python 3"
    },
    "language_info": {
      "name": "python"
    }
  },
  "cells": [
    {
      "cell_type": "markdown",
      "source": [
        "###Two Sum Problem\n",
        "Given an array of integers nums and an integer target, return indices of the two numbers such that they add up to target.\n",
        "\n",
        "You may assume that each input would have ***exactly one solution,*** and you may not use the same element twice.\n",
        "\n",
        "You can return the answer in any order."
      ],
      "metadata": {
        "id": "xoKmYRQHa0uO"
      }
    },
    {
      "cell_type": "code",
      "execution_count": null,
      "metadata": {
        "id": "BIGto8GFdD0W"
      },
      "outputs": [],
      "source": [
        "'''Algo: we will be using hash Map to store the complement of each number encounterd so far \n",
        "          we iterate through the array using enumerate\n",
        "          check if the compliment is already in the index_map\n",
        "          if index_map =index then we found our pair ---> return the indices store in the map & the current index\n",
        "          else store the current number & index in the map\n",
        "          if no solution found return empty list\n",
        "    TC:--> O(n)'''\n",
        "# this problem can be solved by two pointer approach also \n",
        "\n",
        "class Solution():\n",
        "    \n",
        "    def twoSum(self, nums, target):\n",
        "        index_map = {}\n",
        "        for index, num in enumerate(nums): # using enumerate to get both index and the value of each number\n",
        "            if target - num in index_map: # calculateing its complement by subtracting it from the target\n",
        "                return index_map[target - num], index\n",
        "            index_map[num] = index \n",
        "\n",
        "nums =[2,7,11,15] \n",
        "target =9\n",
        "object = Solution()\n",
        "object.twoSum(nums,target) "
      ]
    },
    {
      "cell_type": "markdown",
      "source": [
        "###Remove Element\n",
        "Given an integer array nums and an integer val, remove all occurrences of val in nums in-place. The order of the elements may be changed. Then return the number of elements in nums which are not equal to val.\n",
        "\n",
        "Consider the number of elements in nums which are not equal to val be k, to get accepted, you need to do the following things:\n",
        "\n",
        "Change the array nums such that the first k elements of nums contain the elements which are not equal to val. The remaining elements of nums are not important as well as the size of nums.\n",
        "Return k."
      ],
      "metadata": {
        "id": "OqXbh-63azQm"
      }
    },
    {
      "cell_type": "code",
      "source": [
        "''''Algo : solved this problem using two pointer approach, keep track of the count of elements not equal to val \n",
        "       k & i two pointer we have initialize ,k will keep track of the count of the element not equal to val\n",
        "       and i is to itterate through the array \n",
        "       for each element if its not equal to val update the element at index k with the current element & increment k by 1.\n",
        "       and we return k \n",
        "    TC:--> O(n)\n",
        "    SC:--> O(1) constant , we are not taking any extra spaces'''\n",
        "\n",
        "def removeElement(nums, val):\n",
        "  k = 0 # count of element not equal to val\n",
        "  i =0  # pointer for ittereting through the array \n",
        "  while i < len(nums):\n",
        "    if nums[i] != val:\n",
        "      nums[k] = nums[i]\n",
        "      k += 1\n",
        "      i += 1\n",
        "  return k"
      ],
      "metadata": {
        "id": "M6jVRGQedL8H"
      },
      "execution_count": null,
      "outputs": []
    },
    {
      "cell_type": "markdown",
      "source": [
        "###Search Insert Position\n",
        "Given a sorted array of distinct integers and a target value, return the index if the target is found. If not, return the index where it would be if it were inserted in order.\n",
        "\n",
        "You must write an algorithm with O(log n) runtime complexity"
      ],
      "metadata": {
        "id": "cFomzh20cxZn"
      }
    },
    {
      "cell_type": "code",
      "source": [
        "''' Algo: As per the question we can use Binary Search Algorith \n",
        "          Initialize Two pointers (left,right)\n",
        "          while left <= right\n",
        "            calculate the middle index mid = (left + right)//2\n",
        "            if the element at mid = target \n",
        "              return mid (where target was found)\n",
        "            if mid > target then update right = mid-1 (to search in the left array)\n",
        "            if mid < target then update left = mid +1 (to search in the right array)\n",
        "        if the loop ends without finding the target --> return left\n",
        "          '''\n",
        "\n",
        "def searchInsert(nums, target):\n",
        "        left,right = 0, len(nums)-1\n",
        "\n",
        "        while left <= right:\n",
        "            mid = (left + right) //2\n",
        "            if nums[mid] == target:\n",
        "                return mid\n",
        "            elif nums[mid] < target:\n",
        "                left = mid +1\n",
        "            else:\n",
        "                right = mid -1\n",
        "        return left"
      ],
      "metadata": {
        "id": "uk7Hm0aRdqf_"
      },
      "execution_count": null,
      "outputs": []
    },
    {
      "cell_type": "markdown",
      "source": [
        "###Contains Duplicates\n",
        "\n",
        "Given an integer array nums, return true if any value appears at least twice in the array, and return false if every element is distinct."
      ],
      "metadata": {
        "id": "d60X0rpndNrY"
      }
    },
    {
      "cell_type": "code",
      "source": [
        "'''will be using Hash Set to solve this problem\n",
        "    Initialize an empty hash set\n",
        "    iterate through each element num in aray nums.\n",
        "    if num already present in the hash set then found a duplicate \n",
        "    return True\n",
        "    else add num to the hash set\n",
        "    if loop ends with out finding the duplicate return False'''\n",
        "\n",
        "def containsDuplicate(nums):\n",
        "        hasg = set()\n",
        "        for num in nums:\n",
        "            if num in hasg:\n",
        "                return True\n",
        "            hasg.add(num)\n",
        "        return False"
      ],
      "metadata": {
        "id": "fAbEX0Yy1moz"
      },
      "execution_count": null,
      "outputs": []
    },
    {
      "cell_type": "markdown",
      "source": [
        "###Move all the zeroes\n",
        "Given an integer array nums, move all 0's to the end of it while maintaining the relative order of the non-zero elements.\n",
        "\n",
        "Note that you must do this in-place without making a copy of the array"
      ],
      "metadata": {
        "id": "O_D5kHN8ayIT"
      }
    },
    {
      "cell_type": "code",
      "source": [
        "def moveZeroes(nums):\n",
        "        left,right = 0,0\n",
        "        while right < len(nums):\n",
        "            if nums[right] != 0:\n",
        "                nums[left],nums[right] = nums[right],nums[left]\n",
        "                left += 1\n",
        "            right += 1\n",
        "        while left < len(nums):\n",
        "            nums[left] = 0\n",
        "            left += 1"
      ],
      "metadata": {
        "id": "tmnd3Xo71mYp"
      },
      "execution_count": null,
      "outputs": []
    }
  ]
}