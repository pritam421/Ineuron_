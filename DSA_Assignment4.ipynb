{
  "nbformat": 4,
  "nbformat_minor": 0,
  "metadata": {
    "colab": {
      "provenance": []
    },
    "kernelspec": {
      "name": "python3",
      "display_name": "Python 3"
    },
    "language_info": {
      "name": "python"
    }
  },
  "cells": [
    {
      "cell_type": "markdown",
      "source": [
        "###Transpose matrix\n",
        "Given a 2D integer array matrix, return the transpose of matrix.\n",
        "\n",
        "The transpose of a matrix is the matrix flipped over its main diagonal, switching the matrix's row and column indices."
      ],
      "metadata": {
        "id": "vn7--655xAzM"
      }
    },
    {
      "cell_type": "code",
      "execution_count": 2,
      "metadata": {
        "id": "4ThKckXtus_V"
      },
      "outputs": [],
      "source": [
        "'''To transpose a matrix i  need to swap its rows with columns,\n",
        "    create a new matrix --> dimension columns by rows \n",
        "    iterate through the original matrix and assign them to the transposed matrix'''\n",
        "\n",
        "def transpose(matrix):\n",
        "  columns = len(matrix[0])\n",
        "  rows = len(matrix)\n",
        "  transposed_matrix = [[0]*rows for _ in range(columns)]\n",
        "\n",
        "  for m in range(rows):\n",
        "    for p in range(columns):\n",
        "      transposed_matrix[p][m] = matrix[m][p]\n",
        "  return transposed_matrix"
      ]
    },
    {
      "cell_type": "markdown",
      "source": [
        "###Squares of a Sorted Array\n",
        "Given an integer array nums sorted in non-decreasing order, return an array of the squares of each number sorted in non-decreasing order."
      ],
      "metadata": {
        "id": "HrvzR_VNzgsn"
      }
    },
    {
      "cell_type": "code",
      "source": [
        "'''i will use list comperihension to square each element and store the squared values in the new array \n",
        "then sort the new array using built in sort() function'''\n",
        "\n",
        "def squares(nums):\n",
        "  new_array = [num * num for num in nums]\n",
        "  new_array.sort()\n",
        "  return new_array "
      ],
      "metadata": {
        "id": "isf-Q0KOzUz9"
      },
      "execution_count": 3,
      "outputs": []
    },
    {
      "cell_type": "markdown",
      "source": [],
      "metadata": {
        "id": "IrqGJutB1m65"
      }
    },
    {
      "cell_type": "code",
      "source": [],
      "metadata": {
        "id": "wxkS2uxb1TJd"
      },
      "execution_count": null,
      "outputs": []
    }
  ]
}