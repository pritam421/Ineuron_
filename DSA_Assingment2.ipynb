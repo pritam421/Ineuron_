{
  "nbformat": 4,
  "nbformat_minor": 0,
  "metadata": {
    "colab": {
      "provenance": []
    },
    "kernelspec": {
      "name": "python3",
      "display_name": "Python 3"
    },
    "language_info": {
      "name": "python"
    }
  },
  "cells": [
    {
      "cell_type": "markdown",
      "source": [
        "###Array Partiotions\n",
        "Given an integer array nums of 2n integers, group these integers into n pairs (a1, b1), (a2, b2), ..., (an, bn) such that the sum of min(ai, bi) for all i is maximized. Return the maximized sum."
      ],
      "metadata": {
        "id": "9IiHtcX7m_aP"
      }
    },
    {
      "cell_type": "code",
      "execution_count": 1,
      "metadata": {
        "id": "5kdnxjEAmcAD"
      },
      "outputs": [],
      "source": [
        "''' will be using Counting Sort approach -- its better as per time complexity\n",
        " Algo: -- Initialize a count array of size 2* 10^4 +1 \n",
        "          Iterate over the given array nums and update the count array by 1\n",
        "          initialize variables max_sum and flag both = 0\n",
        " ____________________________________________Another way we can do it by [sort the array and pair adjacent elements, pair the smallest number with the next smallest number..]'''\n",
        "def arrayPairSum(self, nums):\n",
        "        count = [0] * (2* 10**4 +1)\n",
        "        for num in nums:\n",
        "            count[num + 10**4]+= 1\n",
        "        max_sum = 0\n",
        "        flag =0\n",
        "        for i in range(len(count)):\n",
        "            while count[i] >0:\n",
        "                if flag ==0:\n",
        "                    max_sum += i- 10**4\n",
        "                flag = (flag +1) % 2\n",
        "                count[i] -= 1\n",
        "        return max_sum"
      ]
    },
    {
      "cell_type": "markdown",
      "source": [
        "###Distribute Candies\n",
        "Alice has n candies, where the ith candy is of type candyType[i]. Alice noticed that she started to gain weight, so she visited a doctor.\n",
        "\n",
        "The doctor advised Alice to only eat n / 2 of the candies she has (n is always even). Alice likes her candies very much, and she wants to eat the maximum number of different types of candies while still following the doctor's advice.\n",
        "\n",
        "Given the integer array candyType of length n, return the maximum number of different types of candies she can eat if she only eats n / 2 of them."
      ],
      "metadata": {
        "id": "VXi9EEL-m7LK"
      }
    },
    {
      "cell_type": "code",
      "source": [
        "'''There are len(set(candies)) unique candies, and the sister picks only len(candies) / 2 of them, so she can't have more than this amount.\n",
        "For example, if there are 5 unique candies, then if she is picking 4 candies, \n",
        "she will take 4 unique ones. If she is picking 7 candies, then she will only take 5 unique ones.'''\n",
        "\n",
        "def distributeCandies(self, candyType):\n",
        "  return min(len(candyType) / 2, len(set(candyType))) "
      ],
      "metadata": {
        "id": "pZY5URPJ8oW6"
      },
      "execution_count": null,
      "outputs": []
    },
    {
      "cell_type": "markdown",
      "source": [
        "###Can Place Flowers\n",
        "\n",
        "You have a long flowerbed in which some of the plots are planted, and some are not. However, flowers cannot be planted in adjacent plots.\n",
        "\n",
        "Given an integer array flowerbed containing 0's and 1's, where 0 means empty and 1 means not empty, and an integer n, return true if n new flowers can be planted in the flowerbed without violating the no-adjacent-flowers rule and false otherwise."
      ],
      "metadata": {
        "id": "Bvj8v8q-v7lA"
      }
    },
    {
      "cell_type": "code",
      "source": [
        "'''Algo: initialize a variable 'count' to keep track of the number of available spots to plant flowers\n",
        "        iterate over the flowerbed array\n",
        "            if the current element is 0 and previous and next element is also 0 this means flower can be planted in this spot\n",
        "            increment the 'count' & setting its value to 1 (marking current spot as planted) \n",
        "        return 'count'>=n   (if there are enough spot available to plant n flowers)'''\n",
        "# TimeComplexity is O(N),\n",
        "def placeFlowers(flowerbed,n):\n",
        "  count = 0\n",
        "  length = len(flowerbed)\n",
        "  for i in range(length):\n",
        "    if flowerbed[i]==0 and (i==0 or flowerbed[i-1]==0) and (i==length -1 or flowerbed[i+1]==0):\n",
        "      count +=1\n",
        "      flowerbed[i] =1\n",
        "  return count>= n\n"
      ],
      "metadata": {
        "id": "0p5CplNkv7Bk"
      },
      "execution_count": 1,
      "outputs": []
    },
    {
      "cell_type": "markdown",
      "source": [
        "###Given an integer array nums, find three numbers whos product is maximum and return the maximum product\n",
        "\n"
      ],
      "metadata": {
        "id": "mi9Ru8tPtZ6y"
      }
    },
    {
      "cell_type": "code",
      "source": [
        "'''Sort the 'nums' array in assending order\n",
        "calculate two possible products\n",
        "    1st product by multiplying the three largest elements in the sorted array\n",
        "    2nd product by multiplying the two smallest elements\n",
        "    return max(1st product & 2nd product)'''\n",
        "    \n",
        "def produc(nums):\n",
        "  nums.sort()\n",
        "  first_product = nums[-1]*nums[-2]*nums[-3]\n",
        "  sec_product= nums[0]*nums[1]*nums[-1]\n",
        "  return max(first_product,sec_product)"
      ],
      "metadata": {
        "id": "ZXtjH64Fsor6"
      },
      "execution_count": 2,
      "outputs": []
    },
    {
      "cell_type": "code",
      "source": [],
      "metadata": {
        "id": "x4dSfD-bwVQK"
      },
      "execution_count": null,
      "outputs": []
    }
  ]
}