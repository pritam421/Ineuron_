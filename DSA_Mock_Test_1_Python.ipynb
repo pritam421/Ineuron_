{
  "nbformat": 4,
  "nbformat_minor": 0,
  "metadata": {
    "colab": {
      "provenance": []
    },
    "kernelspec": {
      "name": "python3",
      "display_name": "Python 3"
    },
    "language_info": {
      "name": "python"
    }
  },
  "cells": [
    {
      "cell_type": "markdown",
      "source": [
        "Given an integer array nums, move all 0's to the end of it while maintaining the relative order of the non-zero elements.\n",
        "\n",
        "Note that you must do this in-place without making a copy of the array."
      ],
      "metadata": {
        "id": "ErVW5gtnmFBa"
      }
    },
    {
      "cell_type": "code",
      "execution_count": 1,
      "metadata": {
        "id": "-x9elGZRl6is"
      },
      "outputs": [],
      "source": [
        "# using two pointer approach here \n",
        "# one is to keep track of the 0 element and another is to iterate the array\n",
        "\n",
        "def move(nums):\n",
        "  cur = 0\n",
        "  for i in range(len(nums)):\n",
        "    if nums[i] !=0:\n",
        "      nums[cur],nums[i] =nums[i],nums[cur]\n",
        "      cur+=1"
      ]
    },
    {
      "cell_type": "markdown",
      "source": [
        "Given a string s, find the first non-repeating character in it and return its index. If it does not exist, return -1."
      ],
      "metadata": {
        "id": "B8Rzenr6nggj"
      }
    },
    {
      "cell_type": "code",
      "source": [
        "'''we can use hashet and collections library\n",
        "to store the given array and check wheather its repeating or not if its not repeating the return the char\n",
        "'''\n",
        "import collections\n",
        "def firstUniqueChar(s):\n",
        "  hashSet = collections.Counter(s)\n",
        "\n",
        "  for i in range(len(s)):\n",
        "    if hashSet[s[i]] ==1:\n",
        "      return i\n",
        "  \n",
        "  return -1 \n"
      ],
      "metadata": {
        "id": "CH_7FE2dm_wb"
      },
      "execution_count": 2,
      "outputs": []
    },
    {
      "cell_type": "code",
      "source": [],
      "metadata": {
        "id": "7j-PV0zrppdg"
      },
      "execution_count": null,
      "outputs": []
    }
  ]
}